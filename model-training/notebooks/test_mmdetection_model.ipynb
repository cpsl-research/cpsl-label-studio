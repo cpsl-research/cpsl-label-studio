{
 "cells": [
  {
   "cell_type": "code",
   "execution_count": null,
   "metadata": {},
   "outputs": [],
   "source": [
    "from avapi.rccars import RcCarsScenesManager\n",
    "\n",
    "scene_manager = RcCarsScenesManager(data_dir=\"/data/shared/rccars\")\n",
    "print(f\"Available scenes: {scene_manager.scenes}\")\n",
    "\n",
    "mmdet_root = \"../third_party/avstack-core/third_party/mmdetection\"\n",
    "mmseg_root = \"../third_party/avstack-core/third_party/mmsegmentation\""
   ]
  },
  {
   "cell_type": "markdown",
   "metadata": {},
   "source": [
    "## Dataset visualization"
   ]
  },
  {
   "cell_type": "code",
   "execution_count": null,
   "metadata": {},
   "outputs": [],
   "source": [
    "from avapi.visualize.snapshot import show_image_with_boxes\n",
    "\n",
    "\n",
    "# get scene manager\n",
    "scene_dataset = scene_manager.get_scene_dataset_by_name(\"oneclass-detection-2025\", \"val\")\n",
    "\n",
    "# get image and boxes\n",
    "idx_frame = 1\n",
    "frame = scene_dataset.get_frames(idx_frame)[idx_frame]\n",
    "img = scene_dataset.get_image(frame=frame)\n",
    "boxes = scene_dataset.get_boxes(frame=frame, sensor=\"camera\")\n",
    "show_image_with_boxes(img=img, boxes=boxes, inline=True, show=True)"
   ]
  },
  {
   "cell_type": "markdown",
   "metadata": {},
   "source": [
    "## Bounding box detection algorithm"
   ]
  },
  {
   "cell_type": "code",
   "execution_count": null,
   "metadata": {},
   "outputs": [],
   "source": [
    "import numpy as np\n",
    "from avstack.modules.assignment import build_A_from_iou, gnn_single_frame_assign\n",
    "from avstack.modules.perception.object2dfv import MMDetObjectDetector2D\n",
    "\n",
    "\n",
    "def compute_metrics(objs_det, objs_tru, do_print=False):\n",
    "    # compute metrics\n",
    "    # -- perform assignment\n",
    "    A_assign = build_A_from_iou(objs_det, objs_tru)\n",
    "    assigns = gnn_single_frame_assign(A_assign)\n",
    "\n",
    "    # -- report fp/rn rate\n",
    "    n_fp = len(assigns.unassigned_rows)\n",
    "    n_fn = len(assigns.unassigned_cols)\n",
    "    if do_print:\n",
    "        print(f\"{assigns.nrow} detected\\n---------------------\")\n",
    "        print(f\"{assigns.nrow - n_fp} assignment\")\n",
    "        if assigns.nrow > 0:\n",
    "            print(f\"{n_fp} false positives ({100*n_fp/assigns.nrow:.2f}% of detections)\")\n",
    "        else:\n",
    "            print(\"No detections, so no FP rate\")\n",
    "        print(f\"{n_fn} false negatives ({100*n_fn/assigns.ncol:.2f}% of truths)\")\n",
    "\n",
    "    # -- report average IoU of matches\n",
    "    ious = [objs_det[a[0]].IoU(objs_tru[a[1]]) for a in assigns.assignment_tuples]\n",
    "    if do_print:\n",
    "        print(f\"Matches had IoU of: [{', '.join(map(str, ious))}] each\")\n",
    "        print(f\"Mean IoU: {np.mean(ious):.2f}\")\n",
    "\n",
    "    return assigns, n_fp, n_fn, ious\n",
    "\n",
    "\n",
    "\n",
    "def load_model(epoch, threshold: float):\n",
    "    # set up this model\n",
    "    detector = MMDetObjectDetector2D(\n",
    "        model=\"rtmdet\",\n",
    "        dataset=\"rccars-oneclass\",\n",
    "        deploy=False,\n",
    "        threshold=threshold,\n",
    "        gpu=0,\n",
    "        epoch=epoch,\n",
    "    )\n",
    "    return detector"
   ]
  },
  {
   "cell_type": "code",
   "execution_count": null,
   "metadata": {},
   "outputs": [],
   "source": [
    "# load the model\n",
    "epoch = \"latest\"  # sweep this from 1 - 100\n",
    "threshold = 0.7  # between [0, 1]. sweep this from 0.1 to 0.9\n",
    "detector = load_model(epoch=epoch, threshold=threshold)"
   ]
  },
  {
   "cell_type": "code",
   "execution_count": null,
   "metadata": {},
   "outputs": [],
   "source": [
    "# test the model on some examples from train and val\n",
    "idx_frame = 1\n",
    "frame = scene_dataset.get_frames(idx_frame)[idx_frame]\n",
    "img = scene_dataset.get_image(frame=frame)\n",
    "objs_det = detector(img)\n",
    "\n",
    "# metrics\n",
    "objs_tru = scene_dataset.get_boxes(frame=frame, sensor=\"camera\")\n",
    "assigns, n_fp, n_fn, ious = compute_metrics(objs_det, objs_tru)"
   ]
  },
  {
   "cell_type": "code",
   "execution_count": null,
   "metadata": {},
   "outputs": [],
   "source": [
    "# visualize the detected\n",
    "print(\"DETECTED\")\n",
    "det_colors = [\n",
    "    \"green\" if assigns.has_assign(row=i) else \"red\"\n",
    "    for i in range(len(objs_det))\n",
    "]\n",
    "show_image_with_boxes(\n",
    "    img=img,\n",
    "    boxes=objs_det,\n",
    "    box_colors=det_colors,\n",
    "    inline=True,\n",
    "    show=True,\n",
    ")\n",
    "\n",
    "# visualize the truth\n",
    "print(\"GROUND TRUTH\")\n",
    "show_image_with_boxes(\n",
    "    img=img,\n",
    "    boxes=objs_tru,\n",
    "    box_colors=\"white\",\n",
    "    inline=True,\n",
    "    show=True,\n",
    ")"
   ]
  },
  {
   "cell_type": "code",
   "execution_count": null,
   "metadata": {},
   "outputs": [],
   "source": []
  }
 ],
 "metadata": {
  "kernelspec": {
   "display_name": "model-training",
   "language": "python",
   "name": "python3"
  },
  "language_info": {
   "codemirror_mode": {
    "name": "ipython",
    "version": 3
   },
   "file_extension": ".py",
   "mimetype": "text/x-python",
   "name": "python",
   "nbconvert_exporter": "python",
   "pygments_lexer": "ipython3",
   "version": "3.10.12"
  }
 },
 "nbformat": 4,
 "nbformat_minor": 4
}
