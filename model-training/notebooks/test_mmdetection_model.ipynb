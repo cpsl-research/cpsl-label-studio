{
 "cells": [
  {
   "cell_type": "code",
   "execution_count": null,
   "metadata": {},
   "outputs": [],
   "source": [
    "import os\n",
    "import glob\n",
    "\n",
    "\n",
    "data_root = \"/data/shared/rccars/\"\n",
    "mmdet_root = \"../third_party/avstack-core/third_party/mmdetection\"\n",
    "mmseg_root = \"../third_party/avstack-core/third_party/mmsegmentation\""
   ]
  },
  {
   "cell_type": "markdown",
   "metadata": {},
   "source": [
    "## Dataset visualization"
   ]
  },
  {
   "cell_type": "code",
   "execution_count": null,
   "metadata": {},
   "outputs": [],
   "source": [
    "from PIL import Image, ImageOps\n",
    "import cv2\n",
    "import numpy as np\n",
    "\n",
    "sample_img_path = glob.glob(os.path.join(data_root, \"oneclass-detection\", \"val\", \"images\", \"*.jpg\"))[5]\n",
    "\n",
    "# load image\n",
    "img = Image.open(sample_img_path)\n",
    "img = ImageOps.exif_transpose(img)  # do not transpose automatically\n",
    "bbox = None\n",
    "\n",
    "# add bounding box to image (x, y, w, h)\n",
    "if bbox is not None:\n",
    "    img = cv2.rectangle(\n",
    "        np.array(img),\n",
    "        (bbox[0], bbox[1]),\n",
    "        (bbox[0] + bbox[2], bbox[1] + bbox[3]),\n",
    "        color=(255, 0, 0),\n",
    "        thickness=20,\n",
    "    )\n",
    "    img = Image.fromarray(img)\n",
    "\n",
    "# scale to a manageable size\n",
    "rescale = True\n",
    "if rescale:\n",
    "    base_width = 600\n",
    "    wpercent = base_width / float(img.size[0])\n",
    "    hsize = int((float(img.size[1]) * float(wpercent)))\n",
    "    img = img.resize((base_width, hsize), Image.BICUBIC)\n",
    "\n",
    "# display the image with jupyter's builtin display\n",
    "display(img)"
   ]
  },
  {
   "cell_type": "markdown",
   "metadata": {},
   "source": [
    "## Bounding box detection algorithm"
   ]
  },
  {
   "cell_type": "code",
   "execution_count": null,
   "metadata": {},
   "outputs": [],
   "source": [
    "from mmdet.apis import DetInferencer\n",
    "\n",
    "sample_img_path = glob.glob(os.path.join(data_root, \"oneclass-detection\", \"val\", \"images\", \"*.jpg\"))[3]\n",
    "\n",
    "# Choose to use a config\n",
    "cfg = \"rtmdet_m_8xb32-300e_rccars-oneclass\"\n",
    "# cfg = \"rtmdet-ins_m_8xb32-300e_rccars-oneclass\"\n",
    "config = os.path.join(mmdet_root, f'configs/rccars/{cfg}.py')\n",
    "checkpoint = os.path.join(mmdet_root, f'work_dirs/{cfg}/epoch_20.pth')\n",
    "\n",
    "# Set the device to be used for evaluation\n",
    "device = 'cuda:0'\n",
    "\n",
    "# Initialize the DetInferencer\n",
    "inferencer = DetInferencer(config, checkpoint, device)\n",
    "\n",
    "# Use the detector to do inference\n",
    "result = inferencer(sample_img_path, out_dir='./output')"
   ]
  },
  {
   "cell_type": "code",
   "execution_count": null,
   "metadata": {},
   "outputs": [],
   "source": [
    "Image.open(f'./output/vis/{sample_img_path.split(\"/\")[-1]}')"
   ]
  },
  {
   "cell_type": "markdown",
   "metadata": {},
   "source": [
    "## Instance segmentation algorithm"
   ]
  }
 ],
 "metadata": {
  "kernelspec": {
   "display_name": "model-training",
   "language": "python",
   "name": "python3"
  },
  "language_info": {
   "codemirror_mode": {
    "name": "ipython",
    "version": 3
   },
   "file_extension": ".py",
   "mimetype": "text/x-python",
   "name": "python",
   "nbconvert_exporter": "python",
   "pygments_lexer": "ipython3",
   "version": "3.10.12"
  }
 },
 "nbformat": 4,
 "nbformat_minor": 4
}
