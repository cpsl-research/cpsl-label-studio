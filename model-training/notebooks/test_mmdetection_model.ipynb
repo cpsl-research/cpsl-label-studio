{
 "cells": [
  {
   "cell_type": "code",
   "execution_count": null,
   "metadata": {},
   "outputs": [],
   "source": [
    "import os\n",
    "import glob\n",
    "\n",
    "\n",
    "data_root = \"/data/shared/rccars/\"\n",
    "mmdet_root = \"../third_party/avstack-core/third_party/mmdetection\"\n",
    "mmseg_root = \"../third_party/avstack-core/third_party/mmsegmentation\""
   ]
  },
  {
   "cell_type": "markdown",
   "metadata": {},
   "source": [
    "## Dataset visualization"
   ]
  },
  {
   "cell_type": "code",
   "execution_count": null,
   "metadata": {},
   "outputs": [],
   "source": [
    "from PIL import Image, ImageOps\n",
    "import cv2\n",
    "import numpy as np\n",
    "\n",
    "sample_img_path = glob.glob(os.path.join(data_root, \"oneclass-detection\", \"val\", \"images\", \"*.jpg\"))[5]\n",
    "\n",
    "# load image\n",
    "img = Image.open(sample_img_path)\n",
    "img = ImageOps.exif_transpose(img)  # do not transpose automatically\n",
    "bbox = None\n",
    "\n",
    "# add bounding box to image (x, y, w, h)\n",
    "if bbox is not None:\n",
    "    img = cv2.rectangle(\n",
    "        np.array(img),\n",
    "        (bbox[0], bbox[1]),\n",
    "        (bbox[0] + bbox[2], bbox[1] + bbox[3]),\n",
    "        color=(255, 0, 0),\n",
    "        thickness=20,\n",
    "    )\n",
    "    img = Image.fromarray(img)\n",
    "\n",
    "# scale to a manageable size\n",
    "rescale = True\n",
    "if rescale:\n",
    "    base_width = 600\n",
    "    wpercent = base_width / float(img.size[0])\n",
    "    hsize = int((float(img.size[1]) * float(wpercent)))\n",
    "    img = img.resize((base_width, hsize), Image.BICUBIC)\n",
    "\n",
    "# display the image with jupyter's builtin display\n",
    "display(img)"
   ]
  },
  {
   "cell_type": "markdown",
   "metadata": {},
   "source": [
    "## Bounding box detection algorithm"
   ]
  },
  {
   "cell_type": "code",
   "execution_count": 1,
   "metadata": {},
   "outputs": [
    {
     "ename": "NameError",
     "evalue": "name 'os' is not defined",
     "output_type": "error",
     "traceback": [
      "\u001b[0;31m---------------------------------------------------------------------------\u001b[0m",
      "\u001b[0;31mNameError\u001b[0m                                 Traceback (most recent call last)",
      "Cell \u001b[0;32mIn[1], line 7\u001b[0m\n\u001b[1;32m      5\u001b[0m cfg \u001b[38;5;241m=\u001b[39m \u001b[38;5;124m\"\u001b[39m\u001b[38;5;124mrtmdet_m_8xb32-300e_rccars-oneclass\u001b[39m\u001b[38;5;124m\"\u001b[39m\n\u001b[1;32m      6\u001b[0m \u001b[38;5;66;03m# cfg = \"rtmdet-ins_m_8xb32-300e_rccars-oneclass\"\u001b[39;00m\n\u001b[0;32m----> 7\u001b[0m config \u001b[38;5;241m=\u001b[39m \u001b[43mos\u001b[49m\u001b[38;5;241m.\u001b[39mpath\u001b[38;5;241m.\u001b[39mjoin(mmdet_root, \u001b[38;5;124mf\u001b[39m\u001b[38;5;124m'\u001b[39m\u001b[38;5;124mconfigs/rccars/\u001b[39m\u001b[38;5;132;01m{\u001b[39;00mcfg\u001b[38;5;132;01m}\u001b[39;00m\u001b[38;5;124m.py\u001b[39m\u001b[38;5;124m'\u001b[39m)\n\u001b[1;32m      8\u001b[0m checkpoint \u001b[38;5;241m=\u001b[39m os\u001b[38;5;241m.\u001b[39mpath\u001b[38;5;241m.\u001b[39mjoin(mmdet_root, \u001b[38;5;124mf\u001b[39m\u001b[38;5;124m'\u001b[39m\u001b[38;5;124mwork_dirs/\u001b[39m\u001b[38;5;132;01m{\u001b[39;00mcfg\u001b[38;5;132;01m}\u001b[39;00m\u001b[38;5;124m/epoch_20.pth\u001b[39m\u001b[38;5;124m'\u001b[39m)\n\u001b[1;32m     10\u001b[0m \u001b[38;5;66;03m# Set the device to be used for evaluation\u001b[39;00m\n",
      "\u001b[0;31mNameError\u001b[0m: name 'os' is not defined"
     ]
    }
   ],
   "source": [
    "from mmdet.apis import DetInferencer\n",
    "\n",
    "\n",
    "# Choose to use a config\n",
    "cfg = \"rtmdet_m_8xb32-300e_rccars-oneclass\"\n",
    "# cfg = \"rtmdet-ins_m_8xb32-300e_rccars-oneclass\"\n",
    "config = os.path.join(mmdet_root, f'configs/rccars/{cfg}.py')\n",
    "checkpoint = os.path.join(mmdet_root, f'work_dirs/{cfg}/epoch_20.pth')\n",
    "\n",
    "# Set the device to be used for evaluation\n",
    "device = 'cuda:0'\n",
    "\n",
    "# Initialize the DetInferencer\n",
    "inferencer = DetInferencer(config, checkpoint, device)"
   ]
  },
  {
   "cell_type": "code",
   "execution_count": null,
   "metadata": {},
   "outputs": [],
   "source": [
    "# Use the detector to do inference\n",
    "sample_img_path = glob.glob(os.path.join(data_root, \"oneclass-detection\", \"val\", \"images\", \"*.jpg\"))[3]\n",
    "result = inferencer(sample_img_path, out_dir='./output')"
   ]
  },
  {
   "cell_type": "code",
   "execution_count": null,
   "metadata": {},
   "outputs": [],
   "source": [
    "Image.open(f'./output/vis/{sample_img_path.split(\"/\")[-1]}')"
   ]
  },
  {
   "cell_type": "markdown",
   "metadata": {},
   "source": [
    "## RC CAR ANNOTATION VIEWER"
   ]
  },
  {
   "cell_type": "code",
   "execution_count": null,
   "metadata": {},
   "outputs": [],
   "source": [
    "# --- Step 1: Imports ---\n",
    "import os\n",
    "import json\n",
    "import cv2\n",
    "from matplotlib import pyplot as plt\n",
    "from pycocotools.coco import COCO\n",
    "\n",
    "# --- Step 2: Setup Paths ---\n",
    "image_folder = 'images'\n",
    "annotation_file = 'result.json'\n",
    "output_folder = 'cropped_resized_images'\n",
    "os.makedirs(output_folder, exist_ok=True)\n",
    "\n",
    "# --- Step 3: Load COCO Annotations ---\n",
    "print(\"Checking paths...\")\n",
    "print(\"result.json exists:\", os.path.exists(annotation_file))\n",
    "print(\"images folder exists:\", os.path.exists(image_folder))\n",
    "\n",
    "coco = COCO(annotation_file)\n",
    "\n",
    "# --- Step 4: Load Image Info ---\n",
    "image_ids = coco.getImgIds()\n",
    "images = coco.loadImgs(image_ids)\n",
    "print(f\"Loaded {len(images)} images with annotations.\")\n",
    "\n",
    "# --- Step 5: Crop, Resize, Save, and Display ---\n",
    "def crop_and_resize_image(image_info, show=True):\n",
    "    file_name = os.path.basename(image_info[\"file_name\"])\n",
    "    image_path = os.path.join(image_folder, file_name)\n",
    "\n",
    "    if not os.path.exists(image_path):\n",
    "        print(f\"⚠️ Image not found: {image_path}\")\n",
    "        return\n",
    "\n",
    "    image = cv2.imread(image_path)\n",
    "    image = cv2.cvtColor(image, cv2.COLOR_BGR2RGB)\n",
    "\n",
    "    ann_ids = coco.getAnnIds(imgIds=image_info['id'])\n",
    "    anns = coco.loadAnns(ann_ids)\n",
    "\n",
    "    if not anns:\n",
    "        print(f\"⚠️ No annotations for {file_name}\")\n",
    "        return\n",
    "\n",
    "    # Compute tight crop bounds around all boxes\n",
    "    x_min = min(ann['bbox'][0] for ann in anns)\n",
    "    y_min = min(ann['bbox'][1] for ann in anns)\n",
    "    x_max = max(ann['bbox'][0] + ann['bbox'][2] for ann in anns)\n",
    "    y_max = max(ann['bbox'][1] + ann['bbox'][3] for ann in anns)\n",
    "\n",
    "    # Optional padding (pixels)\n",
    "    padding = 30\n",
    "    x_min = max(int(x_min) - padding, 0)\n",
    "    y_min = max(int(y_min) - padding, 0)\n",
    "    x_max = min(int(x_max) + padding, image.shape[1])\n",
    "    y_max = min(int(y_max) + padding, image.shape[0])\n",
    "\n",
    "    # Crop and resize\n",
    "    cropped = image[y_min:y_max, x_min:x_max]\n",
    "    resized = cv2.resize(cropped, (640, 480))\n",
    "\n",
    "    # Save image\n",
    "    save_path = os.path.join(output_folder, file_name)\n",
    "    cv2.imwrite(save_path, cv2.cvtColor(resized, cv2.COLOR_RGB2BGR))\n",
    "    print(f\"✅ Saved: {save_path}\")\n",
    "\n",
    "    # Display image with category labels (optional)\n",
    "    if show:\n",
    "        for ann in anns:\n",
    "            x, y, w, h = ann['bbox']\n",
    "            label = coco.loadCats(ann['category_id'])[0]['name']\n",
    "\n",
    "            # Adjust box to cropped region\n",
    "            x -= x_min\n",
    "            y -= y_min\n",
    "            scale_x = 640 / (x_max - x_min)\n",
    "            scale_y = 480 / (y_max - y_min)\n",
    "\n",
    "            x *= scale_x\n",
    "            y *= scale_y\n",
    "            w *= scale_x\n",
    "            h *= scale_y\n",
    "\n",
    "            cv2.rectangle(resized, (int(x), int(y)), (int(x + w), int(y + h)), (0, 255, 0), 2)\n",
    "            cv2.putText(resized, label, (int(x), int(y) - 10), cv2.FONT_HERSHEY_SIMPLEX, \n",
    "                        0.8, (255, 0, 0), 2, cv2.LINE_AA)\n",
    "\n",
    "        plt.imshow(resized)\n",
    "        plt.axis('off')\n",
    "        plt.show()\n",
    "\n",
    "for i, img in enumerate(images[:319]):  # change [:5] to [:] to run all\n",
    "    crop_and_resize_image(img)\n",
    "\n",
    "crop_and_resize_image(images[300])"
   ]
  }
 ],
 "metadata": {
  "kernelspec": {
   "display_name": "model-training",
   "language": "python",
   "name": "python3"
  },
  "language_info": {
   "codemirror_mode": {
    "name": "ipython",
    "version": 3
   },
   "file_extension": ".py",
   "mimetype": "text/x-python",
   "name": "python",
   "nbconvert_exporter": "python",
   "pygments_lexer": "ipython3",
   "version": "3.10.12"
  }
 },
 "nbformat": 4,
 "nbformat_minor": 4
}
