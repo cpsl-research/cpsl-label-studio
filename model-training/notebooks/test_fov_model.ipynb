{
 "cells": [
  {
   "cell_type": "code",
   "execution_count": null,
   "metadata": {},
   "outputs": [],
   "source": [
    "import numpy as np\n",
    "import matplotlib.pyplot as plt\n",
    "\n",
    "from avapi.carla import CarlaScenesManager\n",
    "\n",
    "data_root = \"/data/shared/CARLA/multi-agent-intersection\"\n",
    "CSM = CarlaScenesManager(data_dir=data_root, split=\"train\")\n",
    "CDM = CSM.get_scene_dataset_by_index(0)"
   ]
  },
  {
   "cell_type": "code",
   "execution_count": null,
   "metadata": {},
   "outputs": [],
   "source": [
    "from avstack.modules.perception.fov_estimator import FastRayTraceBevLidarFovEstimator\n",
    "from avstack.modules.perception.fov_estimator import SlowRayTraceBevLidarFovEstimator\n",
    "\n",
    "# set up fov models\n",
    "fov_estimator_fast = FastRayTraceBevLidarFovEstimator(z_min=-3.0, z_max=3.0)\n",
    "fov_estimator_slow = SlowRayTraceBevLidarFovEstimator(z_min=-3.0, z_max=3.0)\n",
    "\n",
    "# get some random lidar point clouds to analyze\n",
    "seed = 10\n",
    "rng = np.random.RandomState(seed=seed)\n",
    "n_pcs = 20\n",
    "pcs = []\n",
    "frames = CDM.get_frames(sensor=\"lidar-0\", agent=0)\n",
    "random_agent_frames = list(zip(rng.randint(0, 4, size=n_pcs), rng.choice(list(range(200)), size=n_pcs, replace=False)))\n",
    "pcs = [CDM.get_lidar(frame=frames[idx_frame], sensor=\"lidar-0\", agent=agent) for agent, idx_frame in random_agent_frames]"
   ]
  },
  {
   "cell_type": "code",
   "execution_count": null,
   "metadata": {},
   "outputs": [],
   "source": [
    "for pc in pcs:\n",
    "    # run fov estimator on this frame\n",
    "    fov_hull = pc.concave_hull_bev(concavity=1)\n",
    "    fov_fast = fov_estimator_fast(pc)\n",
    "    fov_slow = fov_estimator_slow(pc)\n",
    "    \n",
    "    # project lidar to bev for plotting\n",
    "    pc_bev = pc.project_to_2d_bev()\n",
    "    \n",
    "    # make plot\n",
    "    plt.plot(fov_hull.boundary[:,0], fov_hull.boundary[:,1], \"r-\", label=\"Hull FOV Model\")\n",
    "    plt.plot(fov_fast.boundary[:,0], fov_fast.boundary[:,1], \"k--\", label=\"Fast FOV Model\")\n",
    "    plt.plot(fov_slow.boundary[:,0], fov_slow.boundary[:,1], \"g-\", label=\"Slow FOV Model\")\n",
    "    plt.plot(pc_bev.data.x[:,0], pc_bev.data.x[:,1], \"bo\", markersize=2, label=\"Point Cloud\")\n",
    "    plt.xlabel(\"X\")\n",
    "    plt.ylabel(\"Y\")\n",
    "    plt.legend()\n",
    "    plt.show()"
   ]
  },
  {
   "cell_type": "code",
   "execution_count": null,
   "metadata": {},
   "outputs": [],
   "source": [
    "# run execution timing check\n",
    "n_pcs_timing = 10\n",
    "%timeit for pc in pcs[:n_pcs_timing]:fov_estimator_fast(pc)\n",
    "%timeit for pc in pcs[:n_pcs_timing]:fov_estimator_slow(pc)"
   ]
  }
 ],
 "metadata": {
  "kernelspec": {
   "display_name": "Python 3 (ipykernel)",
   "language": "python",
   "name": "python3"
  },
  "language_info": {
   "codemirror_mode": {
    "name": "ipython",
    "version": 3
   },
   "file_extension": ".py",
   "mimetype": "text/x-python",
   "name": "python",
   "nbconvert_exporter": "python",
   "pygments_lexer": "ipython3",
   "version": "3.10.12"
  },
  "vscode": {
   "interpreter": {
    "hash": "e34a3fdfcf3630a80e000f94537b2fb6cfa81418d2199451c8a97cfcbd5f3443"
   }
  }
 },
 "nbformat": 4,
 "nbformat_minor": 4
}
